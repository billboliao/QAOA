{
 "cells": [
  {
   "cell_type": "code",
   "execution_count": 1,
   "metadata": {},
   "outputs": [],
   "source": [
    "import matplotlib.pyplot as plt\n",
    "from itertools import combinations\n",
    "from random import random,randint\n",
    "import numpy as np\n",
    "from functools import reduce\n",
    "from scipy.optimize import minimize\n",
    "from scipy.linalg import expm,sinm,cosm\n",
    "from sympy import *\n",
    "import time\n",
    "import math\n",
    "from   matplotlib import cm\n",
    "from qiskit import QuantumRegister, QuantumCircuit, ClassicalRegister, execute\n",
    "from qiskit.quantum_info.analysis import average_data\n",
    "from qiskit import *\n",
    "from qiskit.quantum_info.operators import Operator\n",
    "from qiskit.aqua.utils import tensorproduct\n",
    "from matplotlib.ticker import LinearLocator, FormatStrFormatter\n",
    "from qiskit.providers.ibmq      import least_busy\n",
    "from qiskit.tools.monitor       import job_monitor\n",
    "from qiskit.visualization import plot_histogram\n",
    "import picos as pic\n",
    "import warnings\n",
    "from docplex.mp.model import Model\n",
    "from qiskit.optimization import QuadraticProgram\n",
    "from qiskit.optimization.algorithms import CplexOptimizer\n",
    "import scipy.linalg as la\n",
    "from itertools import permutations, combinations\n",
    "from numpy.linalg import inv\n",
    "from decimal import *\n"
   ]
  },
  {
   "cell_type": "code",
   "execution_count": 2,
   "metadata": {},
   "outputs": [],
   "source": [
    "def num_1_pos(d):\n",
    "    get_indexes = lambda x, xs: [i for (y, i) in zip(xs, range(len(xs))) if x == y]\n",
    "    num_1 = get_indexes(1,d)\n",
    "    return num_1,len(num_1)\n",
    "\n",
    "def num_0_pos(d):\n",
    "    get_indexes = lambda x, xs: [i for (y, i) in zip(xs, range(len(xs))) if x == y]\n",
    "    num_0 = get_indexes(0,d)\n",
    "    return num_0,len(num_0)\n",
    "\n",
    "def column(matrix, i):\n",
    "    return [row[i] for row in matrix]\n",
    "\n",
    "#Construct initial state \n",
    "def init_s(n):\n",
    "    x = pow(2,n)\n",
    "    s = 1/np.sqrt(x) * np.ones(x)\n",
    "    s = s.reshape(x, 1)\n",
    "    return s\n",
    "\n",
    "def bin2dec(string_num):\n",
    "    return str(int(string_num, 2))\n",
    "\n",
    "def row_binary(v):\n",
    "    for i in range(len(v)):\n",
    "        if v[i]%2 == 0:\n",
    "            v[i] = 0\n",
    "        else:\n",
    "            v[i] = 1 \n",
    "    return v\n",
    "\n",
    "def converter(d):\n",
    "    P = 0\n",
    "    for i in range(len(d)):\n",
    "        P+=d[i]*(2**(len(d)-i-1))\n",
    "    return P\n",
    "                 \n",
    "#Define some pauli operators\n",
    "PauliX = [[0,1],[1,0]]   \n",
    "PauliZ = [[1,0],[0,-1]]\n",
    "PauliI = np.eye(2)\n",
    "\n",
    "#Define Cjk and B\n",
    "def Cjk_generator(d):\n",
    "    n = len(d)\n",
    "    l = list(range(0,n))    \n",
    "    for i in range(n):\n",
    "        l[i] = PauliI\n",
    "    s = num_1_pos(d)[0]\n",
    "    for j in range(len(s)):\n",
    "        l[s[j]] = PauliZ\n",
    "    Cjk = l[0]\n",
    "    for i in range(n-1):\n",
    "        Cjk = np.kron(Cjk,l[i+1])\n",
    "    return Cjk\n",
    "\n",
    "def B_generator(n):\n",
    "    l = list(range(0,n))\n",
    "    b = list(range(0,n))\n",
    "    \n",
    "    for a in range(n):\n",
    "        for i in range(n):\n",
    "            l[i] = PauliI\n",
    "        l[a]=PauliX\n",
    "        temp = l[0]\n",
    "        for i in range(n-1):\n",
    "            temp = np.kron(temp,l[i+1])\n",
    "        b[a] = temp\n",
    "    B = sum(b[a] for a in range(n))\n",
    "    return B\n",
    "\n",
    "def basis(n):\n",
    "    nums = np.array([a for a in range(2**(n))]) \n",
    "    bin_nums = (((nums.reshape(-1,1) & (2**np.arange(n)))) != 0).astype(int)\n",
    "    a = bin_nums[:,::-1]\n",
    "    return a\n",
    "\n",
    "\n",
    "def matrix_binary(A):\n",
    "    for i in range(A.shape[0]):\n",
    "        for j in range(A.shape[1]):\n",
    "            if A[i][j]%2 == 0:\n",
    "                A[i][j] = 0\n",
    "            else:\n",
    "                A[i][j] = 1\n",
    "    return A\n",
    "\n",
    "def z_gen(syndr,H):\n",
    "    z = []\n",
    "    for w in range((H.shape[1]-len(syndr))):\n",
    "        z.append(0)\n",
    "    for a in range(len(syndr)):\n",
    "        z.append(syndr[a])\n",
    "    return z\n",
    "def err(n,t):\n",
    "    err = []\n",
    "    for a in range(n):\n",
    "        err.append(0)\n",
    "    err[t] = 1\n",
    "    return err\n",
    "\n",
    "def conv(nums):\n",
    "    n = len(nums)\n",
    "    dec = 0\n",
    "    for i in range(n):\n",
    "        dec += nums[i]*(2**(n-i-1))\n",
    "    return dec\n",
    "\n",
    "def cal(A,R):\n",
    "    R_T = R.T\n",
    "    coef = []\n",
    "    for i in range(A.shape[0]):\n",
    "        a = A[i]\n",
    "        coef.append(\"Row:{}\".format(i+1))\n",
    "        for k in range(A.shape[1]):\n",
    "            b = R_T[k]\n",
    "            temp = []\n",
    "            for j in range(len(a)):\n",
    "                temp.append(a[j]*b[j])\n",
    "            coef.append(temp)\n",
    "    return coef\n",
    "\n",
    "def cals(A,R):\n",
    "    R_T = R.T\n",
    "    coef = []\n",
    "    for i in range(A.shape[0]):\n",
    "        a = A[i]\n",
    "        #coef.append(\"Row:{}\".format(i+1))\n",
    "        tem = []\n",
    "        for k in range(A.shape[1]):\n",
    "            b = R_T[k]\n",
    "            temp = []\n",
    "            for j in range(len(a)):\n",
    "                temp.append(a[j]*b[j])\n",
    "            te = []\n",
    "            te.append(temp[0])\n",
    "            e = sum(temp[1:int(len(temp)/2)])\n",
    "            f = sum(temp[int(len(temp)/2):int(len(temp))-1])\n",
    "            te.append(e)\n",
    "            te.append(f)\n",
    "            te.append(temp[-1])\n",
    "            tem.append(te)\n",
    "        coef.append(tem)\n",
    "    return coef\n",
    "\n",
    "def cals1(A,R):\n",
    "    R_T = R.T\n",
    "    coef = []\n",
    "    for i in range(A.shape[0]):\n",
    "        a = A[i]\n",
    "        coef.append(\"Row:{}\".format(i+1))\n",
    "        tem = []\n",
    "        for k in range(A.shape[1]):\n",
    "            b = R_T[k]\n",
    "            temp = []\n",
    "            for j in range(len(a)):\n",
    "                temp.append(a[j]*b[j])\n",
    "            te = []\n",
    "            te.append(temp[0])\n",
    "            e = sum(temp[1:int(len(temp)/2)])\n",
    "            f = sum(temp[int(len(temp)/2):int(len(temp))-1])\n",
    "            te.append(e)\n",
    "            te.append(f)\n",
    "            te.append(temp[-1])\n",
    "            tem.append(te)\n",
    "        coef.append(tem)\n",
    "    return coef\n",
    "\n",
    "\n",
    "\n",
    "\n",
    "\n",
    "    \n",
    "    "
   ]
  },
  {
   "cell_type": "code",
   "execution_count": null,
   "metadata": {},
   "outputs": [],
   "source": [
    "''''n = 4\n",
    "B = B_generator(n)\n",
    "print(B)\n",
    "M = Matrix(B) \n",
    "P, D = M.diagonalize()   \n",
    "\n",
    "Diag = np.array(D)\n",
    "print(Diag)\n",
    "U = np.array(P)\n",
    "U = U.astype(np.float)\n",
    "\n",
    "print('U:',U)\n",
    "Uinv = inv(U)\n",
    "print('Uinv:',Uinv*(2**n))\n",
    "J = (U.dot(Diag)).dot(Uinv)\n",
    "J = np.double(J)\n",
    "print('J:',np.around(J, decimals = 1))'''\n",
    "\n"
   ]
  },
  {
   "cell_type": "code",
   "execution_count": 4,
   "metadata": {},
   "outputs": [],
   "source": [
    "# g = cals(U,Uinv*(2**n))\n",
    "# h = cals1(U,Uinv*(2**n))\n",
    "# print(h)"
   ]
  },
  {
   "cell_type": "code",
   "execution_count": 5,
   "metadata": {},
   "outputs": [],
   "source": [
    "# def calcu(g):\n",
    "#     b = []\n",
    "#     for j in range(len(g[0])): \n",
    "#         a = np.zeros(len(g[0][0]))\n",
    "#         for i in range(len(g[0])):\n",
    "#             a += np.array(g[i][j])\n",
    "#         b.append(a)\n",
    "#     return b\n",
    "\n",
    "# s = calcu(g)\n",
    "\n",
    "# print(np.around(s, decimals = 1))"
   ]
  },
  {
   "cell_type": "code",
   "execution_count": 3,
   "metadata": {},
   "outputs": [],
   "source": [
    "G_oringin = np.array([[1,0,0,0,1,1,0],\n",
    "              [0,1,0,0,1,0,1],\n",
    "              [0,0,1,0,0,1,1],\n",
    "              [0,0,0,1,1,1,1]])\n",
    "G_oringinT = G_oringin.T\n",
    "H = np.array([[1,1,0,1,1,0,0],\n",
    "              [1,0,1,1,0,1,0],\n",
    "              [0,1,1,1,0,0,1]])\n",
    "HT = H.T\n"
   ]
  },
  {
   "cell_type": "code",
   "execution_count": 4,
   "metadata": {},
   "outputs": [
    {
     "name": "stdout",
     "output_type": "stream",
     "text": [
      "[[ 7.  0.  0.  0.  0.  0.  0.  0.  0.  0.  0.  0.  0.  0.  0.  0.]\n",
      " [ 0. -1.  0.  0.  0.  0.  0.  0.  0.  0.  0.  0.  0.  0.  0.  0.]\n",
      " [ 0.  0.  1.  0.  0.  0.  0.  0.  0.  0.  0.  0.  0.  0.  0.  0.]\n",
      " [ 0.  0.  0.  1.  0.  0.  0.  0.  0.  0.  0.  0.  0.  0.  0.  0.]\n",
      " [ 0.  0.  0.  0.  1.  0.  0.  0.  0.  0.  0.  0.  0.  0.  0.  0.]\n",
      " [ 0.  0.  0.  0.  0.  1.  0.  0.  0.  0.  0.  0.  0.  0.  0.  0.]\n",
      " [ 0.  0.  0.  0.  0.  0. -1.  0.  0.  0.  0.  0.  0.  0.  0.  0.]\n",
      " [ 0.  0.  0.  0.  0.  0.  0. -1.  0.  0.  0.  0.  0.  0.  0.  0.]\n",
      " [ 0.  0.  0.  0.  0.  0.  0.  0.  1.  0.  0.  0.  0.  0.  0.  0.]\n",
      " [ 0.  0.  0.  0.  0.  0.  0.  0.  0.  1.  0.  0.  0.  0.  0.  0.]\n",
      " [ 0.  0.  0.  0.  0.  0.  0.  0.  0.  0. -1.  0.  0.  0.  0.  0.]\n",
      " [ 0.  0.  0.  0.  0.  0.  0.  0.  0.  0.  0. -1.  0.  0.  0.  0.]\n",
      " [ 0.  0.  0.  0.  0.  0.  0.  0.  0.  0.  0.  0. -1.  0.  0.  0.]\n",
      " [ 0.  0.  0.  0.  0.  0.  0.  0.  0.  0.  0.  0.  0. -1.  0.  0.]\n",
      " [ 0.  0.  0.  0.  0.  0.  0.  0.  0.  0.  0.  0.  0.  0.  1.  0.]\n",
      " [ 0.  0.  0.  0.  0.  0.  0.  0.  0.  0.  0.  0.  0.  0.  0. -7.]]\n"
     ]
    }
   ],
   "source": [
    "C = sum(Cjk_generator(G_oringinT[a]) for a in range(G_oringinT.shape[0]))\n",
    "print(C)"
   ]
  },
  {
   "cell_type": "markdown",
   "metadata": {},
   "source": [
    "# Syndrome"
   ]
  },
  {
   "cell_type": "markdown",
   "metadata": {},
   "source": [
    "# Oringinal with one bit error"
   ]
  },
  {
   "cell_type": "code",
   "execution_count": 8,
   "metadata": {},
   "outputs": [
    {
     "name": "stdout",
     "output_type": "stream",
     "text": [
      "syndrome: [1 1 0]\n",
      "message: [0 0 0 0]\n",
      "z =  [0, 0, 0, 0, 1, 1, 0]\n",
      "most likey basis:   1\n",
      "estimate message: [0 0 0 1]\n",
      "error: [0 0 0 1 0 0 1]\n"
     ]
    },
    {
     "data": {
      "image/png": "[encoded data removed]",
      "text/plain": [
       "<Figure size 1152x360 with 1 Axes>"
      ]
     },
     "metadata": {
      "needs_background": "light"
     },
     "output_type": "display_data"
    },
    {
     "name": "stdout",
     "output_type": "stream",
     "text": [
      "$$$$$$$$$$$$$$$$$$$$$$$$$$$$$$$$$$$$$$$$$$$$$$$$$$$$$$\n",
      "syndrome: [1 0 1]\n",
      "message: [0 0 0 0]\n",
      "z =  [0, 0, 0, 0, 1, 0, 1]\n",
      "most likey basis:   1\n",
      "estimate message: [0 0 0 1]\n",
      "error: [0 0 0 1 0 1 0]\n"
     ]
    },
    {
     "data": {
      "image/png": "[encoded data removed]",
      "text/plain": [
       "<Figure size 1152x360 with 1 Axes>"
      ]
     },
     "metadata": {
      "needs_background": "light"
     },
     "output_type": "display_data"
    },
    {
     "name": "stdout",
     "output_type": "stream",
     "text": [
      "$$$$$$$$$$$$$$$$$$$$$$$$$$$$$$$$$$$$$$$$$$$$$$$$$$$$$$\n",
      "syndrome: [0 1 1]\n",
      "message: [0 0 0 0]\n",
      "z =  [0, 0, 0, 0, 0, 1, 1]\n",
      "most likey basis:   1\n",
      "estimate message: [0 0 0 1]\n",
      "error: [0 0 0 1 1 0 0]\n"
     ]
    },
    {
     "data": {
      "image/png": "[encoded data removed]",
      "text/plain": [
       "<Figure size 1152x360 with 1 Axes>"
      ]
     },
     "metadata": {
      "needs_background": "light"
     },
     "output_type": "display_data"
    },
    {
     "name": "stdout",
     "output_type": "stream",
     "text": [
      "$$$$$$$$$$$$$$$$$$$$$$$$$$$$$$$$$$$$$$$$$$$$$$$$$$$$$$\n",
      "syndrome: [1 1 1]\n",
      "message: [0 0 0 0]\n",
      "z =  [0, 0, 0, 0, 1, 1, 1]\n",
      "most likey basis:   1\n",
      "estimate message: [0 0 0 1]\n",
      "error: [0 0 0 1 0 0 0]\n"
     ]
    },
    {
     "data": {
      "image/png": "[encoded data removed]",
      "text/plain": [
       "<Figure size 1152x360 with 1 Axes>"
      ]
     },
     "metadata": {
      "needs_background": "light"
     },
     "output_type": "display_data"
    },
    {
     "name": "stdout",
     "output_type": "stream",
     "text": [
      "$$$$$$$$$$$$$$$$$$$$$$$$$$$$$$$$$$$$$$$$$$$$$$$$$$$$$$\n",
      "syndrome: [1 0 0]\n",
      "message: [0 0 0 0]\n",
      "z =  [0, 0, 0, 0, 1, 0, 0]\n",
      "most likey basis:   0\n",
      "estimate message: [0 0 0 0]\n",
      "error: [0 0 0 0 1 0 0]\n"
     ]
    },
    {
     "data": {
      "image/png": "[encoded data removed]",
      "text/plain": [
       "<Figure size 1152x360 with 1 Axes>"
      ]
     },
     "metadata": {
      "needs_background": "light"
     },
     "output_type": "display_data"
    },
    {
     "name": "stdout",
     "output_type": "stream",
     "text": [
      "$$$$$$$$$$$$$$$$$$$$$$$$$$$$$$$$$$$$$$$$$$$$$$$$$$$$$$\n",
      "syndrome: [0 1 0]\n",
      "message: [0 0 0 0]\n",
      "z =  [0, 0, 0, 0, 0, 1, 0]\n",
      "most likey basis:   0\n",
      "estimate message: [0 0 0 0]\n",
      "error: [0 0 0 0 0 1 0]\n"
     ]
    },
    {
     "data": {
      "image/png": "[encoded data removed]",
      "text/plain": [
       "<Figure size 1152x360 with 1 Axes>"
      ]
     },
     "metadata": {
      "needs_background": "light"
     },
     "output_type": "display_data"
    },
    {
     "name": "stdout",
     "output_type": "stream",
     "text": [
      "$$$$$$$$$$$$$$$$$$$$$$$$$$$$$$$$$$$$$$$$$$$$$$$$$$$$$$\n",
      "syndrome: [0 0 1]\n",
      "message: [0 0 0 0]\n",
      "z =  [0, 0, 0, 0, 0, 0, 1]\n",
      "most likey basis:   0\n",
      "estimate message: [0 0 0 0]\n",
      "error: [0 0 0 0 0 0 1]\n"
     ]
    },
    {
     "data": {
      "image/png": "[encoded data removed]",
      "text/plain": [
       "<Figure size 1152x360 with 1 Axes>"
      ]
     },
     "metadata": {
      "needs_background": "light"
     },
     "output_type": "display_data"
    },
    {
     "name": "stdout",
     "output_type": "stream",
     "text": [
      "$$$$$$$$$$$$$$$$$$$$$$$$$$$$$$$$$$$$$$$$$$$$$$$$$$$$$$\n",
      "correcting rate: 57.14285714285714\n"
     ]
    }
   ],
   "source": [
    "u = 0\n",
    "for t in range(HT.shape[0]):    \n",
    "    syndr = HT[t]\n",
    "    n = G_oringin.shape[0]\n",
    "    \n",
    "    message = basis(n)[0]\n",
    "    print('syndrome:',syndr)\n",
    "    print('message:',message)\n",
    "    z = z_gen(syndr,H)\n",
    "    print(\"z = \",z)\n",
    "    C = sum((1-2*z[a])*Cjk_generator(G_oringinT[a]) for a in range(G_oringinT.shape[0]))\n",
    "    B = B_generator(G_oringinT.shape[1])\n",
    "    s = init_s(n)\n",
    "    s_d = (s).T\n",
    "    #print(\"the number of basis\",k+1)\n",
    "\n",
    "    #run the program\n",
    "    start_time = time.time()\n",
    "    step_size   = 0.05\n",
    "    result_array = np.zeros(shape=(int(3.14/step_size)+1, int(3.14/step_size)+1))\n",
    "    a_gamma         = np.arange(0, np.pi, step_size)\n",
    "    a_beta          = np.arange(0, np.pi, step_size)\n",
    "    #print(\"Numbers of iteration: \",(pow((int(3.14/step_size)+1),2)))\n",
    "    f_p_max = 0\n",
    "    f_p_max_gamma = 0\n",
    "    f_p_max_beta = 0\n",
    "    f_psum = 0\n",
    "\n",
    "    for i in range(0, int(3.14/step_size)+1):           # i for a_gamma\n",
    "        for j in range(0, int(3.14/step_size)+1):       # j for a_beta\n",
    "\n",
    "            #Construct U_C\n",
    "            U_C = np.asmatrix(expm(-1j*2*a_gamma[i]*C))\n",
    "            #Construct U_B\n",
    "            U_B = expm(-1j*a_beta[j]*B)\n",
    "\n",
    "\n",
    "            #Construct expection of each subgraph\n",
    "            state = (U_B.dot(U_C)).dot(s).reshape(pow(2,n),1) # ket\n",
    "            state_d = (state.conjugate()).T # bra\n",
    "\n",
    "\n",
    "            f_p = (state_d.dot(C)).dot(state)\n",
    "            f_psum += f_p\n",
    "\n",
    "\n",
    "            if f_p.real > f_p_max:\n",
    "                f_p_max = f_p.real\n",
    "                f_p_max_gamma = a_gamma[i]\n",
    "                f_p_max_beta = a_beta[j]\n",
    "\n",
    "            result_array[i][j] = f_p.real\n",
    "    #         print(\"\\n Average expectation using QAOA with fine grid : \",(f_psum/pow(len(a_gamma),2)).real)       \n",
    "    #         print(\"\\n Maximum expectation using QAOA with fine grid : \",f_p_max)\n",
    "    #         print(\"\\n Optimal gamma : \",f_p_max_gamma)\n",
    "    #         print(\"\\n Optimal beta : \",f_p_max_beta)\n",
    "\n",
    "\n",
    "    end_time = time.time()\n",
    "    #print(\"\\n Runningtime : \",end_time - start_time)\n",
    "    c = converter(message)\n",
    "    r = np.ones(2**len(message))\n",
    "\n",
    "    #Construct U_C\n",
    "    U_C = np.asmatrix(expm(-1j*2*f_p_max_gamma*C))\n",
    "    #Construct U_B\n",
    "    U_B = expm(-1j*f_p_max_beta*B)\n",
    "\n",
    "\n",
    "    #Construct expection of each subgraph\n",
    "    state = (U_B.dot(U_C)).dot(r).reshape(pow(2,n),1) # ket\n",
    "    prob=[]\n",
    "    for i in range(len(state)):\n",
    "        p = (state[i].real)**2 + (state[i].imag)**2\n",
    "        np.array(prob.append(float(p)))      \n",
    "    e = np.max(prob)\n",
    "    q = int(np.where(prob==np.max(prob))[0])\n",
    "    print(\"most likey basis:  \",q)\n",
    "    #     if int(k+1) != int(np.where(prob==np.max(prob))[0]+1):\n",
    "    #         print(\"CANNOT correct！！！！！！\")\n",
    "    #     else:\n",
    "    #         print(\"Good Job!!!!!!\")\n",
    "    #         u+=1\n",
    "    em= basis(n)[q]\n",
    "    print('estimate message:',em)\n",
    "    error = row_binary(np.array(em).dot(G_oringin)+np.array(z))\n",
    "    print('error:',error)\n",
    "    plt.rcParams['figure.figsize'] = [16, 5]\n",
    "    plt.bar(range(0, len(state)),prob)\n",
    "    plt.show()\n",
    "    if conv(err(HT.shape[0],t)) == conv(error):\n",
    "        u+=1\n",
    "    print('$$$$$$$$$$$$$$$$$$$$$$$$$$$$$$$$$$$$$$$$$$$$$$$$$$$$$$')\n",
    "print('correcting rate:',u/(t+1)*100)"
   ]
  },
  {
   "cell_type": "markdown",
   "metadata": {},
   "source": [
    "# Apply QAOA twice"
   ]
  },
  {
   "cell_type": "code",
   "execution_count": 5,
   "metadata": {},
   "outputs": [
    {
     "name": "stdout",
     "output_type": "stream",
     "text": [
      "syndrome: [1 1 0]\n",
      "message: [0 0 0 0]\n",
      "z =  [0, 0, 0, 0, 1, 1, 0]\n",
      "\n",
      " Optimal gamma :  0.1 2.2\n",
      "\n",
      " Optimal beta :  0.5 0.4\n",
      "\n",
      " Runningtime :  1465.472639799118\n",
      "most likey basis:   8\n",
      "estimate message: [1 0 0 0]\n",
      "error: [1 0 0 0 0 0 0]\n"
     ]
    },
    {
     "data": {
      "image/png": "[encoded data removed]",
      "text/plain": [
       "<Figure size 1152x360 with 1 Axes>"
      ]
     },
     "metadata": {
      "needs_background": "light"
     },
     "output_type": "display_data"
    },
    {
     "name": "stdout",
     "output_type": "stream",
     "text": [
      "$$$$$$$$$$$$$$$$$$$$$$$$$$$$$$$$$$$$$$$$$$$$$$$$$$$$$$\n",
      "syndrome: [1 0 1]\n",
      "message: [0 0 0 0]\n",
      "z =  [0, 0, 0, 0, 1, 0, 1]\n",
      "\n",
      " Optimal gamma :  0.1 2.2\n",
      "\n",
      " Optimal beta :  0.5 0.4\n",
      "\n",
      " Runningtime :  1452.7834084033966\n",
      "most likey basis:   4\n",
      "estimate message: [0 1 0 0]\n",
      "error: [0 1 0 0 0 0 0]\n"
     ]
    },
    {
     "data": {
      "image/png": "[encoded data removed]",
      "text/plain": [
       "<Figure size 1152x360 with 1 Axes>"
      ]
     },
     "metadata": {
      "needs_background": "light"
     },
     "output_type": "display_data"
    },
    {
     "name": "stdout",
     "output_type": "stream",
     "text": [
      "$$$$$$$$$$$$$$$$$$$$$$$$$$$$$$$$$$$$$$$$$$$$$$$$$$$$$$\n",
      "syndrome: [0 1 1]\n",
      "message: [0 0 0 0]\n",
      "z =  [0, 0, 0, 0, 0, 1, 1]\n",
      "\n",
      " Optimal gamma :  0.1 2.2\n",
      "\n",
      " Optimal beta :  0.5 0.4\n",
      "\n",
      " Runningtime :  1455.4138345718384\n",
      "most likey basis:   2\n",
      "estimate message: [0 0 1 0]\n",
      "error: [0 0 1 0 0 0 0]\n"
     ]
    },
    {
     "data": {
      "image/png": "[encoded data removed]",
      "text/plain": [
       "<Figure size 1152x360 with 1 Axes>"
      ]
     },
     "metadata": {
      "needs_background": "light"
     },
     "output_type": "display_data"
    },
    {
     "name": "stdout",
     "output_type": "stream",
     "text": [
      "$$$$$$$$$$$$$$$$$$$$$$$$$$$$$$$$$$$$$$$$$$$$$$$$$$$$$$\n",
      "syndrome: [1 1 1]\n",
      "message: [0 0 0 0]\n",
      "z =  [0, 0, 0, 0, 1, 1, 1]\n",
      "\n",
      " Optimal gamma :  2.6 1.8\n",
      "\n",
      " Optimal beta :  2.6 0.4\n",
      "\n",
      " Runningtime :  1446.1580624580383\n",
      "most likey basis:   1\n",
      "estimate message: [0 0 0 1]\n",
      "error: [0 0 0 1 0 0 0]\n"
     ]
    },
    {
     "data": {
      "image/png": "[encoded data removed]",
      "text/plain": [
       "<Figure size 1152x360 with 1 Axes>"
      ]
     },
     "metadata": {
      "needs_background": "light"
     },
     "output_type": "display_data"
    },
    {
     "name": "stdout",
     "output_type": "stream",
     "text": [
      "$$$$$$$$$$$$$$$$$$$$$$$$$$$$$$$$$$$$$$$$$$$$$$$$$$$$$$\n",
      "syndrome: [1 0 0]\n",
      "message: [0 0 0 0]\n",
      "z =  [0, 0, 0, 0, 1, 0, 0]\n",
      "\n",
      " Optimal gamma :  3.0 0.2\n",
      "\n",
      " Optimal beta :  2.1 0.4\n",
      "\n",
      " Runningtime :  1458.1607325077057\n",
      "most likey basis:   0\n",
      "estimate message: [0 0 0 0]\n",
      "error: [0 0 0 0 1 0 0]\n"
     ]
    },
    {
     "data": {
      "image/png": "[encoded data removed]",
      "text/plain": [
       "<Figure size 1152x360 with 1 Axes>"
      ]
     },
     "metadata": {
      "needs_background": "light"
     },
     "output_type": "display_data"
    },
    {
     "name": "stdout",
     "output_type": "stream",
     "text": [
      "$$$$$$$$$$$$$$$$$$$$$$$$$$$$$$$$$$$$$$$$$$$$$$$$$$$$$$\n",
      "syndrome: [0 1 0]\n",
      "message: [0 0 0 0]\n",
      "z =  [0, 0, 0, 0, 0, 1, 0]\n",
      "\n",
      " Optimal gamma :  3.0 0.2\n",
      "\n",
      " Optimal beta :  2.1 0.4\n",
      "\n",
      " Runningtime :  1458.507708787918\n",
      "most likey basis:   0\n",
      "estimate message: [0 0 0 0]\n",
      "error: [0 0 0 0 0 1 0]\n"
     ]
    },
    {
     "data": {
      "image/png": "[encoded data removed]",
      "text/plain": [
       "<Figure size 1152x360 with 1 Axes>"
      ]
     },
     "metadata": {
      "needs_background": "light"
     },
     "output_type": "display_data"
    },
    {
     "name": "stdout",
     "output_type": "stream",
     "text": [
      "$$$$$$$$$$$$$$$$$$$$$$$$$$$$$$$$$$$$$$$$$$$$$$$$$$$$$$\n",
      "syndrome: [0 0 1]\n",
      "message: [0 0 0 0]\n",
      "z =  [0, 0, 0, 0, 0, 0, 1]\n",
      "\n",
      " Optimal gamma :  3.0 0.2\n",
      "\n",
      " Optimal beta :  2.1 0.4\n",
      "\n",
      " Runningtime :  1460.355481147766\n",
      "most likey basis:   0\n",
      "estimate message: [0 0 0 0]\n",
      "error: [0 0 0 0 0 0 1]\n"
     ]
    },
    {
     "data": {
      "image/png": "[encoded data removed]",
      "text/plain": [
       "<Figure size 1152x360 with 1 Axes>"
      ]
     },
     "metadata": {
      "needs_background": "light"
     },
     "output_type": "display_data"
    },
    {
     "name": "stdout",
     "output_type": "stream",
     "text": [
      "$$$$$$$$$$$$$$$$$$$$$$$$$$$$$$$$$$$$$$$$$$$$$$$$$$$$$$\n",
      "correcting rate: 100.0\n"
     ]
    }
   ],
   "source": [
    "u = 0\n",
    "for t in range(HT.shape[0]):    \n",
    "    syndr = HT[t]\n",
    "    n = G_oringin.shape[0]\n",
    "    \n",
    "    message = basis(n)[0]\n",
    "    print('syndrome:',syndr)\n",
    "    print('message:',message)\n",
    "    z = z_gen(syndr,H)\n",
    "    print(\"z = \",z)\n",
    "    C = sum((1-2*z[a])*Cjk_generator(G_oringinT[a]) for a in range(G_oringinT.shape[0]))\n",
    "    B = B_generator(G_oringinT.shape[1])\n",
    "    s = init_s(n)\n",
    "    s_d = (s).T\n",
    "    #print(\"the number of basis\",k+1)\n",
    "\n",
    "    #run the program\n",
    "    start_time = time.time()\n",
    "    step_size   = 0.1\n",
    "    result_array = np.zeros(shape=(int(3.14/step_size)+1, int(3.14/step_size)+1,int(3.14/step_size)+1, int(3.14/step_size)+1))\n",
    "    a_gamma1         = np.arange(0, np.pi, step_size)\n",
    "    a_beta1          = np.arange(0, np.pi, step_size)\n",
    "    a_gamma2         = np.arange(0, np.pi, step_size)\n",
    "    a_beta2          = np.arange(0, np.pi, step_size)\n",
    "    #print(\"Numbers of iteration: \",(pow((int(3.14/step_size)+1),2)))\n",
    "    f_p_max = 0\n",
    "    f_p_max_gamma1 = 0\n",
    "    f_p_max_beta1 = 0\n",
    "    f_p_max_gamma2 = 0\n",
    "    f_p_max_beta2 = 0\n",
    "    f_psum = 0\n",
    "\n",
    "    \n",
    "    for m in range(0, int(3.14/step_size)+1):           # i for a_gamma\n",
    "        for l in range(0, int(3.14/step_size)+1): \n",
    "            for i in range(0, int(3.14/step_size)+1):           # i for a_gamma\n",
    "                for j in range(0, int(3.14/step_size)+1):       # j for a_beta\n",
    "                    \n",
    "                    #Construct U_C1\n",
    "                    U_C1 = np.asmatrix(expm(-1j*2*a_gamma1[i]*C))\n",
    "                    #Construct U_B1\n",
    "                    U_B1 = expm(-1j*a_beta1[j]*B)\n",
    "                    #Construct U_C2\n",
    "                    U_C2 = np.asmatrix(expm(-1j*2*a_gamma2[m]*C))\n",
    "                    #Construct U_B3\n",
    "                    U_B2 = expm(-1j*a_beta2[n]*B)\n",
    "\n",
    "\n",
    "                    #Construct expection of each subgraph\n",
    "                    state = (U_B2.dot(U_C2)).dot((U_B1.dot(U_C1)).dot(s)).reshape(pow(2,n),1) # ket\n",
    "                    state_d = (state.conjugate()).T # bra\n",
    "\n",
    "\n",
    "                    f_p = (state_d.dot(C)).dot(state)\n",
    "                    f_psum += f_p\n",
    "\n",
    "\n",
    "                    if f_p.real > f_p_max:\n",
    "                        f_p_max = f_p.real\n",
    "                        f_p_max_gamma1 = a_gamma1[i]\n",
    "                        f_p_max_beta1 = a_beta1[j]\n",
    "                        f_p_max_gamma2 = a_gamma2[m]\n",
    "                        f_p_max_beta2 = a_beta2[n]\n",
    "                    result_array[i][j][m][n] = f_p.real\n",
    "            #         print(\"\\n Average expectation using QAOA with fine grid : \",(f_psum/pow(len(a_gamma),2)).real)       \n",
    "            #         print(\"\\n Maximum expectation using QAOA with fine grid : \",f_p_max)\n",
    "    print(\"\\n Optimal gamma : \",f_p_max_gamma1 , f_p_max_gamma2)\n",
    "    print(\"\\n Optimal beta : \",f_p_max_beta1 ,f_p_max_beta2)\n",
    "                    \n",
    "    end_time = time.time()\n",
    "    \n",
    "    \n",
    "    print(\"\\n Runningtime : \",end_time - start_time)\n",
    "    \n",
    "    \n",
    "    c = converter(message)\n",
    "    r = np.ones(2**len(message))\n",
    "\n",
    "    #Construct U_C\n",
    "    U_C1 = np.asmatrix(expm(-1j*2*f_p_max_gamma1*C))\n",
    "    U_C2 = np.asmatrix(expm(-1j*2*f_p_max_gamma2*C))\n",
    "    #Construct U_B\n",
    "    U_B1 = expm(-1j*f_p_max_beta1*B)\n",
    "    U_B2 = expm(-1j*f_p_max_beta2*B)\n",
    "\n",
    "\n",
    "\n",
    "    #Construct expection of each subgraph\n",
    "    state = (U_B2.dot(U_C2)).dot((U_B1.dot(U_C1)).dot(s)).reshape(pow(2,n),1) # ket\n",
    "    prob=[]\n",
    "    for i in range(len(state)):\n",
    "        p = (state[i].real)**2 + (state[i].imag)**2\n",
    "        np.array(prob.append(float(p)))      \n",
    "    e = np.max(prob)\n",
    "    q = int(np.where(prob==np.max(prob))[0])\n",
    "    print(\"most likey basis:  \",q)\n",
    "    #     if int(k+1) != int(np.where(prob==np.max(prob))[0]+1):\n",
    "    #         print(\"CANNOT correct！！！！！！\")\n",
    "    #     else:\n",
    "    #         print(\"Good Job!!!!!!\")\n",
    "    #         u+=1\n",
    "    em= basis(n)[q]\n",
    "    print('estimate message:',em)\n",
    "    error = row_binary(np.array(em).dot(G_oringin)+np.array(z))\n",
    "    print('error:',error)\n",
    "    plt.rcParams['figure.figsize'] = [16, 5]\n",
    "    plt.bar(range(0, len(state)),prob)\n",
    "    plt.show()\n",
    "    if conv(err(HT.shape[0],t)) == conv(error):\n",
    "        u+=1\n",
    "    print('$$$$$$$$$$$$$$$$$$$$$$$$$$$$$$$$$$$$$$$$$$$$$$$$$$$$$$')\n",
    "print('correcting rate:',u/(t+1)*100)"
   ]
  },
  {
   "cell_type": "code",
   "execution_count": 7,
   "metadata": {},
   "outputs": [
    {
     "name": "stdout",
     "output_type": "stream",
     "text": [
      "[1 0 0 0 0 0 0]\n"
     ]
    }
   ],
   "source": [
    "z = [0, 0, 0, 0, 1, 1, 0]\n",
    "error = row_binary(basis(4)[8].dot(G_oringin)+np.array(z))\n",
    "print(error)\n"
   ]
  },
  {
   "cell_type": "markdown",
   "metadata": {},
   "source": [
    "# Apply a full rank matrix on G"
   ]
  },
  {
   "cell_type": "code",
   "execution_count": 6,
   "metadata": {},
   "outputs": [
    {
     "name": "stdout",
     "output_type": "stream",
     "text": [
      "4\n",
      "[[1 0 0 0 1 1 0]\n",
      " [0 1 1 0 1 1 0]\n",
      " [0 1 1 1 0 0 1]\n",
      " [1 1 0 1 1 0 0]]\n",
      "[[1 0 0 1]\n",
      " [0 1 1 1]\n",
      " [0 1 1 0]\n",
      " [0 0 1 1]\n",
      " [1 1 0 1]\n",
      " [1 1 0 0]\n",
      " [0 0 1 0]]\n"
     ]
    }
   ],
   "source": [
    "P = np.array([[1,0,0,0],\n",
    "              [0,1,1,0],\n",
    "              [0,1,1,1],\n",
    "              [1,1,0,1]])\n",
    "print(np.linalg.matrix_rank(P))\n",
    "G = matrix_binary(P.dot(G_oringin))\n",
    "GT = G.T\n",
    "print(G)\n",
    "print(GT)"
   ]
  },
  {
   "cell_type": "code",
   "execution_count": 8,
   "metadata": {},
   "outputs": [
    {
     "name": "stdout",
     "output_type": "stream",
     "text": [
      "syndrome: [1 1 0]\n",
      "message: [0 0 0 0]\n",
      "z =  [0, 0, 0, 0, 1, 1, 0]\n",
      "most likey basis:   8\n",
      "estimate message: [1 0 0 0]\n",
      "error: [1 0 0 0 0 0 0]\n"
     ]
    },
    {
     "data": {
      "image/png": "[encoded data removed]",
      "text/plain": [
       "<Figure size 1152x360 with 1 Axes>"
      ]
     },
     "metadata": {
      "needs_background": "light"
     },
     "output_type": "display_data"
    },
    {
     "name": "stdout",
     "output_type": "stream",
     "text": [
      "$$$$$$$$$$$$$$$$$$$$$$$$$$$$$$$$$$$$$$$$$$$$$$$$$$$$$$\n",
      "syndrome: [1 0 1]\n",
      "message: [0 0 0 0]\n",
      "z =  [0, 0, 0, 0, 1, 0, 1]\n",
      "most likey basis:   15\n",
      "estimate message: [1 1 1 1]\n",
      "error: [0 1 0 0 0 0 0]\n"
     ]
    },
    {
     "data": {
      "image/png": "[encoded data removed]",
      "text/plain": [
       "<Figure size 1152x360 with 1 Axes>"
      ]
     },
     "metadata": {
      "needs_background": "light"
     },
     "output_type": "display_data"
    },
    {
     "name": "stdout",
     "output_type": "stream",
     "text": [
      "$$$$$$$$$$$$$$$$$$$$$$$$$$$$$$$$$$$$$$$$$$$$$$$$$$$$$$\n",
      "syndrome: [0 1 1]\n",
      "message: [0 0 0 0]\n",
      "z =  [0, 0, 0, 0, 0, 1, 1]\n",
      "most likey basis:   11\n",
      "estimate message: [1 0 1 1]\n",
      "error: [0 0 1 0 0 0 0]\n"
     ]
    },
    {
     "data": {
      "image/png": "[encoded data removed]",
      "text/plain": [
       "<Figure size 1152x360 with 1 Axes>"
      ]
     },
     "metadata": {
      "needs_background": "light"
     },
     "output_type": "display_data"
    },
    {
     "name": "stdout",
     "output_type": "stream",
     "text": [
      "$$$$$$$$$$$$$$$$$$$$$$$$$$$$$$$$$$$$$$$$$$$$$$$$$$$$$$\n",
      "syndrome: [1 1 1]\n",
      "message: [0 0 0 0]\n",
      "z =  [0, 0, 0, 0, 1, 1, 1]\n",
      "most likey basis:   6\n",
      "estimate message: [0 1 1 0]\n",
      "error: [0 0 0 1 0 0 0]\n"
     ]
    },
    {
     "data": {
      "image/png": "[encoded data removed]",
      "text/plain": [
       "<Figure size 1152x360 with 1 Axes>"
      ]
     },
     "metadata": {
      "needs_background": "light"
     },
     "output_type": "display_data"
    },
    {
     "name": "stdout",
     "output_type": "stream",
     "text": [
      "$$$$$$$$$$$$$$$$$$$$$$$$$$$$$$$$$$$$$$$$$$$$$$$$$$$$$$\n",
      "syndrome: [1 0 0]\n",
      "message: [0 0 0 0]\n",
      "z =  [0, 0, 0, 0, 1, 0, 0]\n",
      "most likey basis:   0\n",
      "estimate message: [0 0 0 0]\n",
      "error: [0 0 0 0 1 0 0]\n"
     ]
    },
    {
     "data": {
      "image/png": "[encoded data removed]",
      "text/plain": [
       "<Figure size 1152x360 with 1 Axes>"
      ]
     },
     "metadata": {
      "needs_background": "light"
     },
     "output_type": "display_data"
    },
    {
     "name": "stdout",
     "output_type": "stream",
     "text": [
      "$$$$$$$$$$$$$$$$$$$$$$$$$$$$$$$$$$$$$$$$$$$$$$$$$$$$$$\n",
      "syndrome: [0 1 0]\n",
      "message: [0 0 0 0]\n",
      "z =  [0, 0, 0, 0, 0, 1, 0]\n",
      "most likey basis:   0\n",
      "estimate message: [0 0 0 0]\n",
      "error: [0 0 0 0 0 1 0]\n"
     ]
    },
    {
     "data": {
      "image/png": "[encoded data removed]",
      "text/plain": [
       "<Figure size 1152x360 with 1 Axes>"
      ]
     },
     "metadata": {
      "needs_background": "light"
     },
     "output_type": "display_data"
    },
    {
     "name": "stdout",
     "output_type": "stream",
     "text": [
      "$$$$$$$$$$$$$$$$$$$$$$$$$$$$$$$$$$$$$$$$$$$$$$$$$$$$$$\n",
      "syndrome: [0 0 1]\n",
      "message: [0 0 0 0]\n",
      "z =  [0, 0, 0, 0, 0, 0, 1]\n",
      "most likey basis:   0\n",
      "estimate message: [0 0 0 0]\n",
      "error: [0 0 0 0 0 0 1]\n"
     ]
    },
    {
     "data": {
      "image/png": "[encoded data removed]",
      "text/plain": [
       "<Figure size 1152x360 with 1 Axes>"
      ]
     },
     "metadata": {
      "needs_background": "light"
     },
     "output_type": "display_data"
    },
    {
     "name": "stdout",
     "output_type": "stream",
     "text": [
      "$$$$$$$$$$$$$$$$$$$$$$$$$$$$$$$$$$$$$$$$$$$$$$$$$$$$$$\n",
      "correcting rate: 100.0\n"
     ]
    }
   ],
   "source": [
    "u = 0\n",
    "for t in range(HT.shape[0]):    \n",
    "    syndr = HT[t]\n",
    "    n = G.shape[0]\n",
    "    message = basis(n)[0]\n",
    "    print('syndrome:',syndr)\n",
    "    print('message:',message)\n",
    "    z = z_gen(syndr,H)\n",
    "    print(\"z = \",z)\n",
    "    C = sum((1-2*z[a])*Cjk_generator(GT[a]) for a in range(GT.shape[0]))\n",
    "    B = B_generator(GT.shape[1])\n",
    "    s = init_s(n)\n",
    "    s_d = (s).T\n",
    "    #print(\"the number of basis\",k+1)\n",
    "\n",
    "    #run the program\n",
    "    start_time = time.time()\n",
    "    step_size   = 0.05\n",
    "    result_array = np.zeros(shape=(int(3.14/step_size)+1, int(3.14/step_size)+1))\n",
    "    a_gamma         = np.arange(0, np.pi, step_size)\n",
    "    a_beta          = np.arange(0, np.pi, step_size)\n",
    "    #print(\"Numbers of iteration: \",(pow((int(3.14/step_size)+1),2)))\n",
    "    f_p_max = 0\n",
    "    f_p_max_gamma = 0\n",
    "    f_p_max_beta = 0\n",
    "    f_psum = 0\n",
    "\n",
    "    for i in range(0, int(3.14/step_size)+1):           # i for a_gamma\n",
    "        for j in range(0, int(3.14/step_size)+1):       # j for a_beta\n",
    "\n",
    "            #Construct U_C\n",
    "            U_C = np.asmatrix(expm(-1j*2*a_gamma[i]*C))\n",
    "            #Construct U_B\n",
    "            U_B = expm(-1j*a_beta[j]*B)\n",
    "\n",
    "\n",
    "            #Construct expection of each subgraph\n",
    "            state = (U_B.dot(U_C)).dot(s).reshape(pow(2,n),1) # ket\n",
    "            state_d = (state.conjugate()).T # bra\n",
    "\n",
    "\n",
    "            f_p = (state_d.dot(C)).dot(state)\n",
    "            f_psum += f_p\n",
    "\n",
    "\n",
    "            if f_p.real > f_p_max:\n",
    "                f_p_max = f_p.real\n",
    "                f_p_max_gamma = a_gamma[i]\n",
    "                f_p_max_beta = a_beta[j]\n",
    "\n",
    "            result_array[i][j] = f_p.real\n",
    "    #         print(\"\\n Average expectation using QAOA with fine grid : \",(f_psum/pow(len(a_gamma),2)).real)       \n",
    "    #         print(\"\\n Maximum expectation using QAOA with fine grid : \",f_p_max)\n",
    "    #         print(\"\\n Optimal gamma : \",f_p_max_gamma)\n",
    "    #         print(\"\\n Optimal beta : \",f_p_max_beta)\n",
    "\n",
    "\n",
    "    end_time = time.time()\n",
    "    #print(\"\\n Runningtime : \",end_time - start_time)\n",
    "    c = converter(message)\n",
    "    r = np.ones(2**len(message))\n",
    "\n",
    "    #Construct U_C\n",
    "    U_C = np.asmatrix(expm(-1j*2*f_p_max_gamma*C))\n",
    "    #Construct U_B\n",
    "    U_B = expm(-1j*f_p_max_beta*B)\n",
    "\n",
    "\n",
    "    #Construct expection of each subgraph\n",
    "    state = (U_B.dot(U_C)).dot(r).reshape(pow(2,n),1) # ket\n",
    "    prob=[]\n",
    "    for i in range(len(state)):\n",
    "        p = (state[i].real)**2 + (state[i].imag)**2\n",
    "        np.array(prob.append(float(p)))      \n",
    "    e = np.max(prob)\n",
    "    q = int(np.where(prob==np.max(prob))[0])\n",
    "    print(\"most likey basis:  \",q)\n",
    "    #     if int(k+1) != int(np.where(prob==np.max(prob))[0]+1):\n",
    "    #         print(\"CANNOT correct！！！！！！\")\n",
    "    #     else:\n",
    "    #         print(\"Good Job!!!!!!\")\n",
    "    #         u+=1\n",
    "    em= basis(n)[q]\n",
    "    print('estimate message:',em)\n",
    "    error = row_binary(np.array(em).dot(G)+np.array(z))\n",
    "    print('error:',error)\n",
    "    plt.rcParams['figure.figsize'] = [16, 5]\n",
    "    plt.bar(range(0, len(state)),prob)\n",
    "    plt.show()\n",
    "    if conv(err(HT.shape[0],t)) == conv(error):\n",
    "        u+=1\n",
    "    print('$$$$$$$$$$$$$$$$$$$$$$$$$$$$$$$$$$$$$$$$$$$$$$$$$$$$$$')\n",
    "print('correcting rate:',u/(t+1)*100)"
   ]
  },
  {
   "cell_type": "code",
   "execution_count": null,
   "metadata": {},
   "outputs": [],
   "source": []
  }
 ],
 "metadata": {
  "kernelspec": {
   "display_name": "Python 3",
   "language": "python",
   "name": "python3"
  },
  "language_info": {
   "codemirror_mode": {
    "name": "ipython",
    "version": 3
   },
   "file_extension": ".py",
   "mimetype": "text/x-python",
   "name": "python",
   "nbconvert_exporter": "python",
   "pygments_lexer": "ipython3",
   "version": "3.8.3"
  }
 },
 "nbformat": 4,
 "nbformat_minor": 2
}
